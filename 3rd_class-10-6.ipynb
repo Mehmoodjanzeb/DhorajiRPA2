{
 "cells": [
  {
   "cell_type": "markdown",
   "metadata": {},
   "source": [
    "# IF ELIF ELSE"
   ]
  },
  {
   "cell_type": "code",
   "execution_count": 31,
   "metadata": {},
   "outputs": [
    {
     "name": "stdout",
     "output_type": "stream",
     "text": [
      "We don't know the animal that you write\n"
     ]
    }
   ],
   "source": [
    "animal = \"elephant\"\n",
    "\n",
    "if animal == \"cat\":\n",
    "    print(\"Yes, this is cat\")\n",
    " \n",
    "elif animal == \"dog\":\n",
    "    print(\"This is dog\")\n",
    "    \n",
    "\n",
    "else:\n",
    "    print(\"We don't know the animal that you write\")"
   ]
  },
  {
   "cell_type": "code",
   "execution_count": 32,
   "metadata": {},
   "outputs": [
    {
     "name": "stdout",
     "output_type": "stream",
     "text": [
      "6\n"
     ]
    }
   ],
   "source": [
    "num1 = 2\n",
    "num2 = 4\n",
    "\n",
    "op = \"+\"\n",
    "\n",
    "\n",
    "if op == \"+\":\n",
    "    print(num1 + num2)\n",
    "    \n",
    "    \n"
   ]
  },
  {
   "cell_type": "markdown",
   "metadata": {},
   "source": [
    "# And OR "
   ]
  },
  {
   "cell_type": "code",
   "execution_count": 38,
   "metadata": {},
   "outputs": [
    {
     "name": "stdout",
     "output_type": "stream",
     "text": [
      "You are allowed to ride bike\n"
     ]
    }
   ],
   "source": [
    "age = 18\n",
    "gender = \"male\"\n",
    "\n",
    "if age >= 18 and gender == \"male\":\n",
    "    print(\"You are allowed to ride bike\")\n",
    "    \n",
    "else:\n",
    "    print(\"You are not allowed\")"
   ]
  },
  {
   "cell_type": "code",
   "execution_count": 40,
   "metadata": {},
   "outputs": [
    {
     "name": "stdout",
     "output_type": "stream",
     "text": [
      "You are not allowed\n"
     ]
    }
   ],
   "source": [
    "age = 17\n",
    "gender = \"female\"\n",
    "\n",
    "if age >= 18 or gender == \"male\":\n",
    "    print(\"You are allowed to ride bike\")\n",
    "    \n",
    "else:\n",
    "    print(\"You are not allowed\")"
   ]
  },
  {
   "cell_type": "markdown",
   "metadata": {},
   "source": [
    "# NESTED IF"
   ]
  },
  {
   "cell_type": "code",
   "execution_count": 42,
   "metadata": {},
   "outputs": [
    {
     "name": "stdout",
     "output_type": "stream",
     "text": [
      "You are a male, you are allowed to ride bike\n"
     ]
    }
   ],
   "source": [
    "age = 18\n",
    "gender = \"male\"\n",
    "\n",
    "\n",
    "if age >= 18:\n",
    "    if gender == \"male\":\n",
    "        print(\"You are a male, you are allowed to ride bike\")\n",
    "        \n",
    "    elif gender == \"female\":\n",
    "        print(\"You are a female, you are not allowed\")"
   ]
  },
  {
   "cell_type": "markdown",
   "metadata": {},
   "source": [
    "# INPUT "
   ]
  },
  {
   "cell_type": "code",
   "execution_count": 47,
   "metadata": {},
   "outputs": [
    {
     "name": "stdout",
     "output_type": "stream",
     "text": [
      "Enter Age : 21\n",
      "Enter Gender : male\n",
      "You are a male, you are allowed to ride bike\n"
     ]
    }
   ],
   "source": [
    "age = input(\"Enter Age : \")\n",
    "gender = input(\"Enter Gender : \")\n",
    "\n",
    "\n",
    "if int(age) >= 18:\n",
    "    if gender == \"male\":\n",
    "        print(\"You are a male, you are allowed to ride bike\")\n",
    "        \n",
    "    elif gender == \"female\":\n",
    "        print(\"You are a female, you are not allowed\")\n",
    "        \n",
    "        \n",
    "else:\n",
    "    print(\"You are under 18\")\n"
   ]
  },
  {
   "cell_type": "code",
   "execution_count": null,
   "metadata": {},
   "outputs": [],
   "source": []
  }
 ],
 "metadata": {
  "kernelspec": {
   "display_name": "Python 3",
   "language": "python",
   "name": "python3"
  },
  "language_info": {
   "codemirror_mode": {
    "name": "ipython",
    "version": 3
   },
   "file_extension": ".py",
   "mimetype": "text/x-python",
   "name": "python",
   "nbconvert_exporter": "python",
   "pygments_lexer": "ipython3",
   "version": "3.8.5"
  }
 },
 "nbformat": 4,
 "nbformat_minor": 4
}
